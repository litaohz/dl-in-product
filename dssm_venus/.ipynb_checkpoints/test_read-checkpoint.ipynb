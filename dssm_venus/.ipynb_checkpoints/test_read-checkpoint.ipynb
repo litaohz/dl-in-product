{
 "cells": [
  {
   "cell_type": "code",
   "execution_count": 5,
   "metadata": {},
   "outputs": [],
   "source": [
    "\"\"\"doc string\"\"\"\n",
    "import os\n",
    "import tensorflow as tf\n",
    " \n",
    " \n",
    "def read_hdfs_tfrecords(paths,\n",
    "                        parse_spec,\n",
    "                        shuffle=True,\n",
    "                        batch_size=64,\n",
    "                        epochs=1):\n",
    "    \"\"\"General input functions\n",
    " \n",
    "      Args:\n",
    "        path: (list) list of paths on HDFS\n",
    "        parse_spec: (dict) feature parsing specification\n",
    "        shuffle: (bool) whether to shuffle\n",
    "        batch_size: (int) batch size\n",
    "        epochs: (int) epochs\n",
    "      Returns:\n",
    "        (batched feature dicts, batched labels)\n",
    "    \"\"\"\n",
    " \n",
    "    suffix = '/part-r-*'\n",
    "    patterns = [p + suffix for p in paths]\n",
    "    files = tf.data.Dataset.from_tensor_slices(patterns)\n",
    "    dataset = files.interleave(tf.data.TFRecordDataset, 6)\n",
    "    \n",
    "    if epochs > 1:\n",
    "      dataset = dataset.repeat(epochs)\n",
    "\n",
    "    if shuffle:\n",
    "      dataset = dataset.shuffle(buffer_size=batch_size * 1000)\n",
    "\n",
    "    def _map(example_proto):\n",
    "        features = tf.parse_example(example_proto, parse_spec)\n",
    "        labels = features.pop('label')\n",
    "        return features, labels\n",
    " \n",
    "    dataset = dataset.batch(batch_size)\n",
    "    dataset = dataset.map(_map, num_parallel_calls=36)\n",
    "    dataset = dataset.prefetch(1)\n",
    " \n",
    "    iterator = dataset.make_one_shot_iterator()\n",
    "    next_batch = iterator.get_next()\n",
    " \n",
    "    features, labels = next_batch[0], next_batch[1]\n",
    " \n",
    "    return features, labels\n",
    " \n",
    " \n",
    "def test_read():\n",
    "    parse_spec = {\n",
    "        'play': tf.FixedLenFeature((1, ), dtype=tf.float32, default_value=0.0),\n",
    "        'sex': tf.VarLenFeature(dtype=tf.int64),\n",
    "        'kid': tf.VarLenFeature(dtype=tf.string),\n",
    "        'pub': tf.VarLenFeature(dtype=tf.string),\n",
    "        'label': tf.FixedLenFeature((1, ), dtype=tf.float32, default_value=0.0)\n",
    "    }\n",
    " \n",
    "    os.environ[\"CUDA_VISIBLE_DEVICES\"] = \"\"\n",
    " \n",
    "    path = [\n",
    "        'hdfs://ss-sng-dc-v2/stage/interface/ecc/u_ecc_qqmusicaudio/linguan/qmkg/tfrecord/notyoung_aug_sample_v0/20200511/train'\n",
    "    ]\n",
    " \n",
    "    with tf.Session() as sess:\n",
    "        features, labels = read_hdfs_tfrecords(path,\n",
    "                                               parse_spec,\n",
    "                                               False,\n",
    "                                               batch_size=1)\n",
    "        for i in range(5):\n",
    "            feature, label = sess.run([features, labels])\n",
    "            print(label.shape)\n",
    " \n"
   ]
  },
  {
   "cell_type": "code",
   "execution_count": 6,
   "metadata": {},
   "outputs": [
    {
     "ename": "NameError",
     "evalue": "name 'record_files' is not defined",
     "output_type": "error",
     "traceback": [
      "\u001b[0;31m---------------------------------------------------------------------------\u001b[0m",
      "\u001b[0;31mNameError\u001b[0m                                 Traceback (most recent call last)",
      "\u001b[0;32m<ipython-input-6-3865e14a1da8>\u001b[0m in \u001b[0;36m<module>\u001b[0;34m\u001b[0m\n\u001b[0;32m----> 1\u001b[0;31m \u001b[0mtest_read\u001b[0m\u001b[0;34m(\u001b[0m\u001b[0;34m)\u001b[0m\u001b[0;34m\u001b[0m\u001b[0;34m\u001b[0m\u001b[0m\n\u001b[0m",
      "\u001b[0;32m<ipython-input-5-b0e8e3cd53dc>\u001b[0m in \u001b[0;36mtest_read\u001b[0;34m()\u001b[0m\n\u001b[1;32m     68\u001b[0m                                                \u001b[0mparse_spec\u001b[0m\u001b[0;34m,\u001b[0m\u001b[0;34m\u001b[0m\u001b[0;34m\u001b[0m\u001b[0m\n\u001b[1;32m     69\u001b[0m                                                \u001b[0;32mFalse\u001b[0m\u001b[0;34m,\u001b[0m\u001b[0;34m\u001b[0m\u001b[0;34m\u001b[0m\u001b[0m\n\u001b[0;32m---> 70\u001b[0;31m                                                batch_size=1)\n\u001b[0m\u001b[1;32m     71\u001b[0m         \u001b[0;32mfor\u001b[0m \u001b[0mi\u001b[0m \u001b[0;32min\u001b[0m \u001b[0mrange\u001b[0m\u001b[0;34m(\u001b[0m\u001b[0;36m5\u001b[0m\u001b[0;34m)\u001b[0m\u001b[0;34m:\u001b[0m\u001b[0;34m\u001b[0m\u001b[0;34m\u001b[0m\u001b[0m\n\u001b[1;32m     72\u001b[0m             \u001b[0mfeature\u001b[0m\u001b[0;34m,\u001b[0m \u001b[0mlabel\u001b[0m \u001b[0;34m=\u001b[0m \u001b[0msess\u001b[0m\u001b[0;34m.\u001b[0m\u001b[0mrun\u001b[0m\u001b[0;34m(\u001b[0m\u001b[0;34m[\u001b[0m\u001b[0mfeatures\u001b[0m\u001b[0;34m,\u001b[0m \u001b[0mlabels\u001b[0m\u001b[0;34m]\u001b[0m\u001b[0;34m)\u001b[0m\u001b[0;34m\u001b[0m\u001b[0;34m\u001b[0m\u001b[0m\n",
      "\u001b[0;32m<ipython-input-5-b0e8e3cd53dc>\u001b[0m in \u001b[0;36mread_hdfs_tfrecords\u001b[0;34m(paths, parse_spec, shuffle, batch_size, epochs)\u001b[0m\n\u001b[1;32m     23\u001b[0m     \u001b[0msuffix\u001b[0m \u001b[0;34m=\u001b[0m \u001b[0;34m'/part-r-*'\u001b[0m\u001b[0;34m\u001b[0m\u001b[0;34m\u001b[0m\u001b[0m\n\u001b[1;32m     24\u001b[0m     \u001b[0mpatterns\u001b[0m \u001b[0;34m=\u001b[0m \u001b[0;34m[\u001b[0m\u001b[0mp\u001b[0m \u001b[0;34m+\u001b[0m \u001b[0msuffix\u001b[0m \u001b[0;32mfor\u001b[0m \u001b[0mp\u001b[0m \u001b[0;32min\u001b[0m \u001b[0mpaths\u001b[0m\u001b[0;34m]\u001b[0m\u001b[0;34m\u001b[0m\u001b[0;34m\u001b[0m\u001b[0m\n\u001b[0;32m---> 25\u001b[0;31m     \u001b[0mfiles\u001b[0m \u001b[0;34m=\u001b[0m \u001b[0mtf\u001b[0m\u001b[0;34m.\u001b[0m\u001b[0mdata\u001b[0m\u001b[0;34m.\u001b[0m\u001b[0mDataset\u001b[0m\u001b[0;34m.\u001b[0m\u001b[0mfrom_tensor_slices\u001b[0m\u001b[0;34m(\u001b[0m\u001b[0mrecord_files\u001b[0m\u001b[0;34m)\u001b[0m\u001b[0;34m\u001b[0m\u001b[0;34m\u001b[0m\u001b[0m\n\u001b[0m\u001b[1;32m     26\u001b[0m     \u001b[0mdataset\u001b[0m \u001b[0;34m=\u001b[0m \u001b[0mfiles\u001b[0m\u001b[0;34m.\u001b[0m\u001b[0minterleave\u001b[0m\u001b[0;34m(\u001b[0m\u001b[0mtf\u001b[0m\u001b[0;34m.\u001b[0m\u001b[0mdata\u001b[0m\u001b[0;34m.\u001b[0m\u001b[0mTFRecordDataset\u001b[0m\u001b[0;34m,\u001b[0m \u001b[0;36m6\u001b[0m\u001b[0;34m)\u001b[0m\u001b[0;34m\u001b[0m\u001b[0;34m\u001b[0m\u001b[0m\n\u001b[1;32m     27\u001b[0m \u001b[0;34m\u001b[0m\u001b[0m\n",
      "\u001b[0;31mNameError\u001b[0m: name 'record_files' is not defined"
     ]
    }
   ],
   "source": [
    "test_read()"
   ]
  },
  {
   "cell_type": "code",
   "execution_count": null,
   "metadata": {},
   "outputs": [],
   "source": []
  }
 ],
 "metadata": {
  "kernelspec": {
   "display_name": "Python 3",
   "language": "python",
   "name": "python3"
  },
  "language_info": {
   "codemirror_mode": {
    "name": "ipython",
    "version": 3
   },
   "file_extension": ".py",
   "mimetype": "text/x-python",
   "name": "python",
   "nbconvert_exporter": "python",
   "pygments_lexer": "ipython3",
   "version": "3.6.8"
  }
 },
 "nbformat": 4,
 "nbformat_minor": 2
}
